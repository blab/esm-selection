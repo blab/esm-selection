{
 "cells": [
  {
   "cell_type": "code",
   "execution_count": 1,
   "metadata": {},
   "outputs": [
    {
     "name": "stdout",
     "output_type": "stream",
     "text": [
      "Defaulting to user installation because normal site-packages is not writeable\n",
      "Requirement already satisfied: nextstrain-augur in /Users/Carlos/Library/Python/3.9/lib/python/site-packages (29.0.0)\n",
      "Requirement already satisfied: bcbio-gff==0.7.*,>=0.7.1 in /Users/Carlos/Library/Python/3.9/lib/python/site-packages (from nextstrain-augur) (0.7.1)\n",
      "Requirement already satisfied: biopython==1.*,>=1.80 in /Users/Carlos/Library/Python/3.9/lib/python/site-packages (from nextstrain-augur) (1.85)\n",
      "Requirement already satisfied: cvxopt==1.*,>=1.1.9 in /Users/Carlos/Library/Python/3.9/lib/python/site-packages (from nextstrain-augur) (1.3.2)\n",
      "Requirement already satisfied: importlib_resources>=5.3.0 in /Users/Carlos/Library/Python/3.9/lib/python/site-packages (from nextstrain-augur) (6.5.2)\n",
      "Requirement already satisfied: isodate==0.6.* in /Users/Carlos/Library/Python/3.9/lib/python/site-packages (from nextstrain-augur) (0.6.1)\n",
      "Requirement already satisfied: jsonschema==4.*,>=4.18.0 in /Users/Carlos/Library/Python/3.9/lib/python/site-packages (from nextstrain-augur) (4.23.0)\n",
      "Requirement already satisfied: networkx<4,>=2.5 in /Users/Carlos/Library/Python/3.9/lib/python/site-packages (from nextstrain-augur) (3.2.1)\n",
      "Requirement already satisfied: numpy==1.* in /Users/Carlos/Library/Python/3.9/lib/python/site-packages (from nextstrain-augur) (1.26.4)\n",
      "Requirement already satisfied: packaging>=19.2 in /Users/Carlos/Library/Python/3.9/lib/python/site-packages (from nextstrain-augur) (24.2)\n",
      "Requirement already satisfied: pandas<3,>=1.4.0 in /Users/Carlos/Library/Python/3.9/lib/python/site-packages (from nextstrain-augur) (2.2.3)\n",
      "Requirement already satisfied: phylo-treetime<0.12,>=0.11.2 in /Users/Carlos/Library/Python/3.9/lib/python/site-packages (from nextstrain-augur) (0.11.4)\n",
      "Requirement already satisfied: pyfastx<3.0,>=1.0.0 in /Users/Carlos/Library/Python/3.9/lib/python/site-packages (from nextstrain-augur) (2.2.0)\n",
      "Requirement already satisfied: python_calamine>=0.2.0 in /Users/Carlos/Library/Python/3.9/lib/python/site-packages (from nextstrain-augur) (0.3.2)\n",
      "Requirement already satisfied: referencing<1.0,>=0.29.1 in /Users/Carlos/Library/Python/3.9/lib/python/site-packages (from nextstrain-augur) (0.36.2)\n",
      "Requirement already satisfied: scipy==1.* in /Users/Carlos/Library/Python/3.9/lib/python/site-packages (from nextstrain-augur) (1.13.1)\n",
      "Requirement already satisfied: xopen<3,>=2.0.0 in /Users/Carlos/Library/Python/3.9/lib/python/site-packages (from xopen[zstd]<3,>=2.0.0->nextstrain-augur) (2.0.2)\n",
      "Requirement already satisfied: six in /Library/Developer/CommandLineTools/Library/Frameworks/Python3.framework/Versions/3.9/lib/python3.9/site-packages (from bcbio-gff==0.7.*,>=0.7.1->nextstrain-augur) (1.15.0)\n",
      "Requirement already satisfied: attrs>=22.2.0 in /Users/Carlos/Library/Python/3.9/lib/python/site-packages (from jsonschema==4.*,>=4.18.0->nextstrain-augur) (25.3.0)\n",
      "Requirement already satisfied: jsonschema-specifications>=2023.03.6 in /Users/Carlos/Library/Python/3.9/lib/python/site-packages (from jsonschema==4.*,>=4.18.0->nextstrain-augur) (2024.10.1)\n",
      "Requirement already satisfied: rpds-py>=0.7.1 in /Users/Carlos/Library/Python/3.9/lib/python/site-packages (from jsonschema==4.*,>=4.18.0->nextstrain-augur) (0.23.1)\n",
      "Requirement already satisfied: zipp>=3.1.0 in /Users/Carlos/Library/Python/3.9/lib/python/site-packages (from importlib_resources>=5.3.0->nextstrain-augur) (3.21.0)\n",
      "Requirement already satisfied: python-dateutil>=2.8.2 in /Users/Carlos/Library/Python/3.9/lib/python/site-packages (from pandas<3,>=1.4.0->nextstrain-augur) (2.9.0.post0)\n",
      "Requirement already satisfied: pytz>=2020.1 in /Users/Carlos/Library/Python/3.9/lib/python/site-packages (from pandas<3,>=1.4.0->nextstrain-augur) (2025.1)\n",
      "Requirement already satisfied: tzdata>=2022.7 in /Users/Carlos/Library/Python/3.9/lib/python/site-packages (from pandas<3,>=1.4.0->nextstrain-augur) (2025.1)\n",
      "Requirement already satisfied: matplotlib>=2.0 in /Users/Carlos/Library/Python/3.9/lib/python/site-packages (from phylo-treetime<0.12,>=0.11.2->nextstrain-augur) (3.9.4)\n",
      "Requirement already satisfied: typing-extensions>=4.4.0 in /Users/Carlos/Library/Python/3.9/lib/python/site-packages (from referencing<1.0,>=0.29.1->nextstrain-augur) (4.12.2)\n",
      "Requirement already satisfied: zstandard<1 in /Users/Carlos/Library/Python/3.9/lib/python/site-packages (from xopen[zstd]<3,>=2.0.0->nextstrain-augur) (0.23.0)\n",
      "Requirement already satisfied: contourpy>=1.0.1 in /Users/Carlos/Library/Python/3.9/lib/python/site-packages (from matplotlib>=2.0->phylo-treetime<0.12,>=0.11.2->nextstrain-augur) (1.3.0)\n",
      "Requirement already satisfied: cycler>=0.10 in /Users/Carlos/Library/Python/3.9/lib/python/site-packages (from matplotlib>=2.0->phylo-treetime<0.12,>=0.11.2->nextstrain-augur) (0.12.1)\n",
      "Requirement already satisfied: fonttools>=4.22.0 in /Users/Carlos/Library/Python/3.9/lib/python/site-packages (from matplotlib>=2.0->phylo-treetime<0.12,>=0.11.2->nextstrain-augur) (4.56.0)\n",
      "Requirement already satisfied: kiwisolver>=1.3.1 in /Users/Carlos/Library/Python/3.9/lib/python/site-packages (from matplotlib>=2.0->phylo-treetime<0.12,>=0.11.2->nextstrain-augur) (1.4.7)\n",
      "Requirement already satisfied: pillow>=8 in /Users/Carlos/Library/Python/3.9/lib/python/site-packages (from matplotlib>=2.0->phylo-treetime<0.12,>=0.11.2->nextstrain-augur) (11.1.0)\n",
      "Requirement already satisfied: pyparsing>=2.3.1 in /Users/Carlos/Library/Python/3.9/lib/python/site-packages (from matplotlib>=2.0->phylo-treetime<0.12,>=0.11.2->nextstrain-augur) (3.2.1)\n"
     ]
    }
   ],
   "source": [
    "!python3 -m pip install nextstrain-augur"
   ]
  },
  {
   "cell_type": "code",
   "execution_count": 86,
   "metadata": {},
   "outputs": [],
   "source": [
    "import json\n",
    "from augur.utils import json_to_tree"
   ]
  },
  {
   "cell_type": "code",
   "execution_count": 87,
   "metadata": {},
   "outputs": [],
   "source": [
    "json_fh = open(\"/Users/Carlos/Downloads/h3n2_60y_pb2.json\", \"r\")\n",
    "json_dict = json.load(json_fh)\n",
    "tree = json_to_tree(json_dict)"
   ]
  },
  {
   "cell_type": "code",
   "execution_count": 88,
   "metadata": {},
   "outputs": [],
   "source": [
    "pb2_mutations_dict = {}\n",
    "\n",
    "for node in tree.find_clades():\n",
    "    if not node.branch_attrs.get('mutations'):\n",
    "        continue\n",
    "\n",
    "    if not node.branch_attrs['mutations'].get('PB2'):\n",
    "        continue\n",
    "\n",
    "    # Retrieve PB2 mutations\n",
    "    pb2_mutations = node.branch_attrs['mutations'].get('PB2')\n",
    "    \n",
    "    # Add PB2 mutations to the dictionary\n",
    "    for mutation in pb2_mutations:\n",
    "        if mutation not in pb2_mutations_dict:\n",
    "            pb2_mutations_dict[mutation] = []\n",
    "        # Add terminal names associated with this mutation\n",
    "        terminal_names = [tip.name for tip in node.get_terminals()]\n",
    "        pb2_mutations_dict[mutation].extend(terminal_names)"
   ]
  },
  {
   "cell_type": "code",
   "execution_count": 89,
   "metadata": {},
   "outputs": [],
   "source": [
    "#pb2_mutations_dict"
   ]
  },
  {
   "cell_type": "code",
   "execution_count": 90,
   "metadata": {},
   "outputs": [],
   "source": [
    "json_fh_frequency = open(\"/Users/Carlos/Downloads/h3n2_60y_pb2_tip-frequencies.json\", \"r\")\n",
    "json_dict_frequency = json.load(json_fh_frequency)\n",
    "#json_dict_frequency"
   ]
  },
  {
   "cell_type": "code",
   "execution_count": 91,
   "metadata": {},
   "outputs": [],
   "source": [
    "# Update pb2_mutations_dict to include maximum frequencies\n",
    "for mutation, terminal_names in pb2_mutations_dict.items():\n",
    "    for i, terminal_name in enumerate(terminal_names):\n",
    "        # Check if the terminal name exists in max_frequency_per_terminal\n",
    "        if terminal_name in max_frequency_per_terminal:\n",
    "            # Add the maximum frequency to the terminal name entry\n",
    "            max_frequency = max_frequency_per_terminal[terminal_name]\n",
    "            # Update the terminal name with its frequency in pb2_mutations_dict\n",
    "            terminal_names[i] = { \"name\": terminal_name, \"max_frequency\": max_frequency }\n",
    "        else:\n",
    "            # If no frequency is found, keep the terminal name as is\n",
    "            terminal_names[i] = { \"name\": terminal_name, \"max_frequency\": None }\n",
    "\n",
    "# Print the updated pb2_mutations_dict\n",
    "#print(\"Updated pb2_mutations_dict with Maximum Frequencies:\")\n",
    "#print(pb2_mutations_dict)"
   ]
  },
  {
   "cell_type": "code",
   "execution_count": 92,
   "metadata": {},
   "outputs": [],
   "source": [
    "#pb2_mutations_dict"
   ]
  },
  {
   "cell_type": "code",
   "execution_count": 93,
   "metadata": {},
   "outputs": [],
   "source": [
    "# Dictionary to store the maximum frequency for each mutation\n",
    "max_frequency_per_mutation = {}\n",
    "\n",
    "for mutation, terminal_names in pb2_mutations_dict.items():\n",
    "    max_frequency = 0  # Initialize the maximum frequency for the mutation\n",
    "    for terminal in terminal_names:\n",
    "        # Extract the terminal name if it's a dictionary\n",
    "        if isinstance(terminal, dict):\n",
    "            terminal_name = terminal.get(\"name\")\n",
    "        else:\n",
    "            terminal_name = terminal  # Assume it's a string if not a dictionary\n",
    "\n",
    "        # Check if the terminal name exists in max_frequency_per_terminal\n",
    "        if terminal_name in max_frequency_per_terminal:\n",
    "            frequency = max_frequency_per_terminal[terminal_name]\n",
    "            # Update max_frequency if the current frequency is larger\n",
    "            if frequency > max_frequency:\n",
    "                max_frequency = frequency\n",
    "    # Store the maximum frequency for the mutation\n",
    "    max_frequency_per_mutation[mutation] = max_frequency\n",
    "\n",
    "# Print the resulting dictionary\n",
    "#print(\"Maximum Frequency for Each Mutation:\")\n",
    "#print(max_frequency_per_mutation)"
   ]
  },
  {
   "cell_type": "code",
   "execution_count": 94,
   "metadata": {},
   "outputs": [],
   "source": [
    "#max_frequency_per_mutation"
   ]
  },
  {
   "cell_type": "code",
   "execution_count": 95,
   "metadata": {},
   "outputs": [],
   "source": [
    "# Export max_frequency_per_mutation to a text file\n",
    "output_file_path = \"/Users/Carlos/Desktop/Bedford/esm-selection/max_frequency_per_mutation.txt\"\n",
    "\n",
    "with open(output_file_path, \"w\") as file:\n",
    "    for mutation, max_frequency in max_frequency_per_mutation.items():\n",
    "        file.write(f\"{mutation}: {max_frequency}\\n\")"
   ]
  },
  {
   "cell_type": "markdown",
   "metadata": {},
   "source": [
    "# Get frequencies \n",
    "\n",
    "### Activate nextstrain docker container\n",
    "\n",
    "``` bash\n",
    "nextstrain shell .\n",
    "```\n",
    "\n",
    "### Get max frequencies using Augur\n",
    "\n",
    "PB2/masked.gene.PB2_Edited.fasta file was edited because \"EPI381962 Influenza A virus (A/Aichi/2/1968-egg) segment 2 polymerase (PB2), complete cds\" was not in metadata rather A/Aichi/2/1968-egg was \n",
    "\n",
    "``` bash\n",
    "augur frequencies --method diffusion --metadata PB2/metadata.tsv --alignments PB2/masked.gene.PB2_Edited.fasta --gene-names PB2 --ignore-char X --minimal-frequency 0.01 --pivot-interval 3 --pivot-interval-units months --output PB2_frequencies.json\n",
    "```\n",
    "\n",
    "\"Optimization failed, trying with powell\"\n",
    "\n",
    "Error was spit out but still generated frequencies json\n",
    "\n"
   ]
  },
  {
   "cell_type": "code",
   "execution_count": 5,
   "metadata": {},
   "outputs": [
    {
     "name": "stdout",
     "output_type": "stream",
     "text": [
      "Max values exported to /Users/Carlos/Desktop/Bedford/esm-selection/max_values.csv\n"
     ]
    }
   ],
   "source": [
    "# Import necessary libraries\n",
    "import json\n",
    "import csv\n",
    "\n",
    "# Load the JSON file\n",
    "json_file_path = \"/Users/Carlos/Desktop/Bedford/esm-selection/PB2_frequencies.json\"  # Update with your JSON file path\n",
    "with open(json_file_path, \"r\") as json_file:\n",
    "    json_data = json.load(json_file)\n",
    "\n",
    "# Dictionary to store the maximum value for each key\n",
    "max_values = {}\n",
    "\n",
    "# Iterate through the JSON data to find the maximum value for each key\n",
    "for key, values in json_data.items():\n",
    "    if isinstance(values, list) and values:  # Ensure the value is a non-empty list\n",
    "        max_values[key] = max(values)\n",
    "\n",
    "# Export the max values to a CSV file\n",
    "csv_output_file_path = \"/Users/Carlos/Desktop/Bedford/esm-selection/max_values.csv\"\n",
    "with open(csv_output_file_path, mode=\"w\", newline=\"\") as csv_file:\n",
    "    csv_writer = csv.writer(csv_file)\n",
    "    # Write the header row\n",
    "    csv_writer.writerow([\"Key\", \"Max Value\"])\n",
    "    # Write each key and its max value\n",
    "    for key, max_value in max_values.items():\n",
    "        csv_writer.writerow([key, max_value])\n",
    "\n",
    "print(f\"Max values exported to {csv_output_file_path}\")"
   ]
  },
  {
   "cell_type": "code",
   "execution_count": null,
   "metadata": {},
   "outputs": [],
   "source": []
  }
 ],
 "metadata": {
  "kernelspec": {
   "display_name": "Python 3",
   "language": "python",
   "name": "python3"
  },
  "language_info": {
   "codemirror_mode": {
    "name": "ipython",
    "version": 3
   },
   "file_extension": ".py",
   "mimetype": "text/x-python",
   "name": "python",
   "nbconvert_exporter": "python",
   "pygments_lexer": "ipython3",
   "version": "3.9.6"
  }
 },
 "nbformat": 4,
 "nbformat_minor": 2
}
